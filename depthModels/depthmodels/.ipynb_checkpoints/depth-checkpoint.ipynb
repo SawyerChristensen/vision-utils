{
 "cells": [
  {
   "cell_type": "code",
   "execution_count": 26,
   "id": "163883ec-9fd7-429d-9d76-d22380a1656a",
   "metadata": {},
   "outputs": [],
   "source": [
    "from transformers import pipeline\n",
    "from PIL import Image, ImageChops\n",
    "import requests\n",
    "import numpy as np\n",
    "import scipy\n",
    "import cv2\n",
    "\n",
    "IMG_PATH = \"/Users/herk/Downloads/skydive.jpg\""
   ]
  },
  {
   "cell_type": "code",
   "execution_count": 27,
   "id": "698f9273-fe56-457d-a939-73f3126a4a0e",
   "metadata": {},
   "outputs": [],
   "source": [
    "# load pipe\n",
    "pipe = pipeline(task=\"depth-estimation\", model=\"LiheYoung/depth-anything-large-hf\")\n",
    "\n",
    "# load image\n",
    "image = Image.open(IMG_PATH)\n",
    "\n",
    "# inference\n",
    "depth = pipe(image)[\"depth\"]\n",
    "depth.save(\"/Users/herk/Downloads/depth.jpg\")"
   ]
  },
  {
   "cell_type": "code",
   "execution_count": 28,
   "id": "320691f9-7aba-4032-9b97-755ddedb6d22",
   "metadata": {},
   "outputs": [],
   "source": [
    "def shift_image(img, depth_img, shift_amount=10):\n",
    "    # Ensure base image has alpha\n",
    "    img = img.convert(\"RGBA\")\n",
    "    data = np.array(img)\n",
    "\n",
    "    # Ensure depth image is grayscale (for single value)\n",
    "    depth_img = depth_img.convert(\"L\")\n",
    "    depth_data = np.array(depth_img)\n",
    "    deltas = np.array((depth_data / 255.0) * float(shift_amount), dtype=int)\n",
    "\n",
    "    # This creates the transprent resulting image.\n",
    "    # For now, we're dealing with pixel data.\n",
    "    shifted_data = np.zeros_like(data)\n",
    "\n",
    "    width = img.width\n",
    "    height = img.height\n",
    "\n",
    "    for y, row in enumerate(deltas):\n",
    "        width = len(row)\n",
    "        x = 0\n",
    "        while x < width:\n",
    "            dx = row[x]\n",
    "            if x+dx >= width:\n",
    "                break\n",
    "            if x-dx < 0:\n",
    "                shifted_data[y][x-dx] = [0,0,0,0]\n",
    "            else:\n",
    "                shifted_data[y][x-dx] = data[y][x]\n",
    "            x += 1\n",
    "\n",
    "    # Convert the pixel data to an image.\n",
    "    shifted_image = Image.fromarray(shifted_data)\n",
    "\n",
    "    alphas_image = Image.fromarray(scipy.ndimage.binary_fill_holes(\n",
    "      ImageChops.invert(\n",
    "          shifted_image.getchannel(\"A\")\n",
    "      ))).convert(\"1\")\n",
    "    shifted_image.putalpha(ImageChops.invert(alphas_image))\n",
    "\n",
    "    return shifted_image"
   ]
  },
  {
   "cell_type": "code",
   "execution_count": 29,
   "id": "b0143e81-44b6-4e7c-84ec-20848464affd",
   "metadata": {},
   "outputs": [],
   "source": [
    "def shift_and_inpaint(path, amount):\n",
    "    shifted = shift_image(image, depth, shift_amount=amount).save(path)\n",
    "    org_img = cv2.imread(filename=path)\n",
    "    damaged_img = cv2.imread(filename=path)\n",
    "     \n",
    "    # get the shape of the image\n",
    "    height, width = damaged_img.shape[0], damaged_img.shape[1]\n",
    "     \n",
    "    # Converting all pixels greater than zero to black while black becomes white\n",
    "    for i in range(height):\n",
    "        for j in range(width):\n",
    "            if damaged_img[i, j].sum() > 0:\n",
    "                damaged_img[i, j] = 0\n",
    "            else:\n",
    "                damaged_img[i, j] = [255, 255, 255]\n",
    "     \n",
    "    # saving the mask \n",
    "    mask = cv2.cvtColor(damaged_img, cv2.COLOR_BGR2GRAY)\n",
    "    #cv2.imshow(\"title\", mask)\n",
    "    #cv2.waitKey(0)\n",
    "\n",
    "    dst = cv2.inpaint(org_img, mask, 3, cv2.INPAINT_NS)\n",
    "    # Write the output.\n",
    "    cv2.imwrite(path, dst)"
   ]
  },
  {
   "cell_type": "code",
   "execution_count": 32,
   "id": "17b44656-6900-4fc0-b78f-c28a0898ed9a",
   "metadata": {},
   "outputs": [],
   "source": [
    "shift_and_inpaint(\"/Users/herk/Downloads/cart_left.png\", 10)\n",
    "shift_and_inpaint(\"/Users/herk/Downloads/cart_right.png\", 50)"
   ]
  },
  {
   "cell_type": "code",
   "execution_count": null,
   "id": "04c065e4-77ac-4102-98be-1d43ffa3077c",
   "metadata": {},
   "outputs": [],
   "source": []
  },
  {
   "cell_type": "code",
   "execution_count": 50,
   "id": "567c2157-8168-4754-8ee1-e7285bb8d9c0",
   "metadata": {},
   "outputs": [
    {
     "name": "stdout",
     "output_type": "stream",
     "text": [
      "left_img: <PIL.PngImagePlugin.PngImageFile image mode=RGB size=669x446 at 0x29A656C50>\n",
      "right_img: <PIL.PngImagePlugin.PngImageFile image mode=RGB size=669x446 at 0x29A655B70>\n"
     ]
    },
    {
     "ename": "AttributeError",
     "evalue": "'HeifFile' object has no attribute 'add_from_bytes'",
     "output_type": "error",
     "traceback": [
      "\u001b[0;31m---------------------------------------------------------------------------\u001b[0m",
      "\u001b[0;31mAttributeError\u001b[0m                            Traceback (most recent call last)",
      "Cell \u001b[0;32mIn[50], line 59\u001b[0m\n\u001b[1;32m     54\u001b[0m     heif_file_1\u001b[38;5;241m.\u001b[39madd_from_bytes( mode\u001b[38;5;241m=\u001b[39m\u001b[38;5;124m\"\u001b[39m\u001b[38;5;124mBGRA;16\u001b[39m\u001b[38;5;124m\"\u001b[39m,\n\u001b[1;32m     55\u001b[0m         size\u001b[38;5;241m=\u001b[39m(cv_img\u001b[38;5;241m.\u001b[39mshape[\u001b[38;5;241m1\u001b[39m], cv_img\u001b[38;5;241m.\u001b[39mshape[\u001b[38;5;241m0\u001b[39m]),\n\u001b[1;32m     56\u001b[0m         data\u001b[38;5;241m=\u001b[39m\u001b[38;5;28mbytes\u001b[39m(cv_img))\n\u001b[1;32m     57\u001b[0m     heif_file\u001b[38;5;241m.\u001b[39mwrite_to_file(new_image_path)\n\u001b[0;32m---> 59\u001b[0m \u001b[43mcombine_left_and_right\u001b[49m\u001b[43m(\u001b[49m\u001b[43m)\u001b[49m\n",
      "Cell \u001b[0;32mIn[50], line 54\u001b[0m, in \u001b[0;36mcombine_left_and_right\u001b[0;34m()\u001b[0m\n\u001b[1;32m     48\u001b[0m cv_img \u001b[38;5;241m=\u001b[39m cv2\u001b[38;5;241m.\u001b[39mimread(right_img_path, cv2\u001b[38;5;241m.\u001b[39mIMREAD_UNCHANGED)\n\u001b[1;32m     49\u001b[0m heif_file_2 \u001b[38;5;241m=\u001b[39m pillow_heif\u001b[38;5;241m.\u001b[39mfrom_bytes(\n\u001b[1;32m     50\u001b[0m     mode\u001b[38;5;241m=\u001b[39m\u001b[38;5;124m\"\u001b[39m\u001b[38;5;124mBGRA;16\u001b[39m\u001b[38;5;124m\"\u001b[39m,\n\u001b[1;32m     51\u001b[0m     size\u001b[38;5;241m=\u001b[39m(cv_img\u001b[38;5;241m.\u001b[39mshape[\u001b[38;5;241m1\u001b[39m], cv_img\u001b[38;5;241m.\u001b[39mshape[\u001b[38;5;241m0\u001b[39m]),\n\u001b[1;32m     52\u001b[0m     data\u001b[38;5;241m=\u001b[39m\u001b[38;5;28mbytes\u001b[39m(cv_img)\n\u001b[1;32m     53\u001b[0m )\n\u001b[0;32m---> 54\u001b[0m \u001b[43mheif_file_1\u001b[49m\u001b[38;5;241;43m.\u001b[39;49m\u001b[43madd_from_bytes\u001b[49m( mode\u001b[38;5;241m=\u001b[39m\u001b[38;5;124m\"\u001b[39m\u001b[38;5;124mBGRA;16\u001b[39m\u001b[38;5;124m\"\u001b[39m,\n\u001b[1;32m     55\u001b[0m     size\u001b[38;5;241m=\u001b[39m(cv_img\u001b[38;5;241m.\u001b[39mshape[\u001b[38;5;241m1\u001b[39m], cv_img\u001b[38;5;241m.\u001b[39mshape[\u001b[38;5;241m0\u001b[39m]),\n\u001b[1;32m     56\u001b[0m     data\u001b[38;5;241m=\u001b[39m\u001b[38;5;28mbytes\u001b[39m(cv_img))\n\u001b[1;32m     57\u001b[0m heif_file\u001b[38;5;241m.\u001b[39mwrite_to_file(new_image_path)\n",
      "\u001b[0;31mAttributeError\u001b[0m: 'HeifFile' object has no attribute 'add_from_bytes'"
     ]
    }
   ],
   "source": [
    "\n",
    "from PIL import Image\n",
    "import pillow_heif\n",
    "import math\n",
    "\n",
    "def load_image(path):\n",
    "    try:\n",
    "        return Image.open(path)\n",
    "    except Exception as e:\n",
    "        print(f\"Error loading image: {e}\")\n",
    "        return None\n",
    "\n",
    "def combine_left_and_right():\n",
    "    left_img_path = \"/Users/herk/Downloads/cart_left.png\"\n",
    "    right_img_path = \"/Users/herk/Downloads/cart_right.png\"\n",
    "    new_image_path = \"/Users/herk/Downloads/cart_with_depth.heic\"\n",
    "\n",
    "    left_img = load_image(left_img_path)\n",
    "    right_img = load_image(right_img_path)\n",
    "\n",
    "    print(f\"left_img: {left_img}\")\n",
    "    print(f\"right_img: {right_img}\")\n",
    "\n",
    "    if left_img is None or right_img is None:\n",
    "        print(\"One of the images could not be loaded.\")\n",
    "        return\n",
    "    \n",
    "    image_width = left_img.size[0]\n",
    "    image_height = left_img.size[1]\n",
    "    fov_horizontal_degrees = 55\n",
    "    fov_horizontal_radians = fov_horizontal_degrees * (3.14159 / 180)\n",
    "    focal_length_pixels = 0.5 * image_width / math.tan(0.5 * fov_horizontal_radians)\n",
    "    baseline = 65.0 # in millimeters\n",
    "\n",
    "    # Since pillow_heif does not directly support adding depth information,\n",
    "    # the following is an approximation that creates a HEIF image with two pictures.\n",
    "    # Depth information and camera intrinsics are not standard and require\n",
    "    # specific API support which is not available in pillow_heif as of the last knowledge update.\n",
    "\n",
    "    left_img_bytes = left_img.tobytes(\"raw\")\n",
    "    right_img_bytes = right_img.tobytes(\"raw\")\n",
    "\n",
    "    cv_img = cv2.imread(left_img_path, cv2.IMREAD_UNCHANGED)\n",
    "    heif_file_1 = pillow_heif.from_bytes(\n",
    "        mode=\"BGRA;16\",\n",
    "        size=(cv_img.shape[1], cv_img.shape[0]),\n",
    "        data=bytes(cv_img)\n",
    "    )\n",
    "    cv_img = cv2.imread(right_img_path, cv2.IMREAD_UNCHANGED)\n",
    "    heif_file_2 = pillow_heif.from_bytes(\n",
    "        mode=\"BGRA;16\",\n",
    "        size=(cv_img.shape[1], cv_img.shape[0]),\n",
    "        data=bytes(cv_img)\n",
    "    )\n",
    "    heif_file_1.add_from_bytes( mode=\"BGRA;16\",\n",
    "        size=(cv_img.shape[1], cv_img.shape[0]),\n",
    "        data=bytes(cv_img))\n",
    "    heif_file.write_to_file(new_image_path)\n",
    "\n",
    "combine_left_and_right()"
   ]
  },
  {
   "cell_type": "code",
   "execution_count": 39,
   "id": "cd8f25f9-d74c-41bf-b4a1-02dac31f5a43",
   "metadata": {},
   "outputs": [
    {
     "data": {
      "text/plain": [
       "<HeifFile with 2 images: ['<HeifImage 669x446 RGB with 895122 bytes image data and 0 thumbnails>', '<HeifImage 669x446 RGB with 895122 bytes image data and 0 thumbnails>']>"
      ]
     },
     "execution_count": 39,
     "metadata": {},
     "output_type": "execute_result"
    }
   ],
   "source": [
    "read = pillow_heif.read_heif(\"/Users/herk/Downloads/cart_with_depth.heic\")"
   ]
  },
  {
   "cell_type": "code",
   "execution_count": 44,
   "id": "a75769ff-d8ca-4c93-bfcd-ed22282b863a",
   "metadata": {},
   "outputs": [
    {
     "data": {
      "text/plain": [
       "<HeifFile with 0 images: []>"
      ]
     },
     "execution_count": 44,
     "metadata": {},
     "output_type": "execute_result"
    }
   ],
   "source": [
    "pillow_heif.HeifFile()"
   ]
  },
  {
   "cell_type": "code",
   "execution_count": null,
   "id": "dbcad149-07b0-49da-85a7-6d1102af3d12",
   "metadata": {},
   "outputs": [],
   "source": []
  }
 ],
 "metadata": {
  "kernelspec": {
   "display_name": "Python 3 (ipykernel)",
   "language": "python",
   "name": "python3"
  },
  "language_info": {
   "codemirror_mode": {
    "name": "ipython",
    "version": 3
   },
   "file_extension": ".py",
   "mimetype": "text/x-python",
   "name": "python",
   "nbconvert_exporter": "python",
   "pygments_lexer": "ipython3",
   "version": "3.10.13"
  }
 },
 "nbformat": 4,
 "nbformat_minor": 5
}
