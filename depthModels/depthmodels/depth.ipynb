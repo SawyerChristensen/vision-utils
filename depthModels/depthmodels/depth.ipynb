{
 "cells": [
  {
   "cell_type": "code",
   "execution_count": 1,
   "id": "163883ec-9fd7-429d-9d76-d22380a1656a",
   "metadata": {},
   "outputs": [],
   "source": [
    "from transformers import pipeline\n",
    "from PIL import Image, ImageChops\n",
    "import requests\n",
    "import numpy as np\n",
    "import scipy\n",
    "import cv2\n",
    "\n",
    "IMG_PATH = \"/Users/herk/Downloads/skydive.jpg\""
   ]
  },
  {
   "cell_type": "code",
   "execution_count": 2,
   "id": "698f9273-fe56-457d-a939-73f3126a4a0e",
   "metadata": {},
   "outputs": [],
   "source": [
    "# load pipe\n",
    "pipe = pipeline(task=\"depth-estimation\", model=\"LiheYoung/depth-anything-large-hf\")\n",
    "\n",
    "# load image\n",
    "image = Image.open(IMG_PATH)\n",
    "\n",
    "# inference\n",
    "depth = pipe(image)[\"depth\"]\n",
    "depth.save(\"/Users/herk/Downloads/depth.jpg\")"
   ]
  },
  {
   "cell_type": "code",
   "execution_count": 3,
   "id": "320691f9-7aba-4032-9b97-755ddedb6d22",
   "metadata": {},
   "outputs": [],
   "source": [
    "def shift_image(img, depth_img, shift_amount=10):\n",
    "    # Ensure base image has alpha\n",
    "    img = img.convert(\"RGBA\")\n",
    "    data = np.array(img)\n",
    "\n",
    "    # Ensure depth image is grayscale (for single value)\n",
    "    depth_img = depth_img.convert(\"L\")\n",
    "    depth_data = np.array(depth_img)\n",
    "    deltas = np.array((depth_data / 255.0) * float(shift_amount), dtype=int)\n",
    "\n",
    "    # This creates the transprent resulting image.\n",
    "    # For now, we're dealing with pixel data.\n",
    "    shifted_data = np.zeros_like(data)\n",
    "\n",
    "    width = img.width\n",
    "    height = img.height\n",
    "\n",
    "    for y, row in enumerate(deltas):\n",
    "        width = len(row)\n",
    "        x = 0\n",
    "        while x < width:\n",
    "            dx = row[x]\n",
    "            if x+dx >= width:\n",
    "                break\n",
    "            if x-dx < 0:\n",
    "                shifted_data[y][x-dx] = [0,0,0,0]\n",
    "            else:\n",
    "                shifted_data[y][x-dx] = data[y][x]\n",
    "            x += 1\n",
    "\n",
    "    # Convert the pixel data to an image.\n",
    "    shifted_image = Image.fromarray(shifted_data)\n",
    "\n",
    "    alphas_image = Image.fromarray(scipy.ndimage.binary_fill_holes(\n",
    "      ImageChops.invert(\n",
    "          shifted_image.getchannel(\"A\")\n",
    "      ))).convert(\"1\")\n",
    "    shifted_image.putalpha(ImageChops.invert(alphas_image))\n",
    "\n",
    "    return shifted_image"
   ]
  },
  {
   "cell_type": "code",
   "execution_count": 4,
   "id": "b0143e81-44b6-4e7c-84ec-20848464affd",
   "metadata": {},
   "outputs": [],
   "source": [
    "def shift_and_inpaint(path, amount):\n",
    "    shifted = shift_image(image, depth, shift_amount=amount).save(path)\n",
    "    org_img = cv2.imread(filename=path)\n",
    "    damaged_img = cv2.imread(filename=path)\n",
    "     \n",
    "    # get the shape of the image\n",
    "    height, width = damaged_img.shape[0], damaged_img.shape[1]\n",
    "     \n",
    "    # Converting all pixels greater than zero to black while black becomes white\n",
    "    for i in range(height):\n",
    "        for j in range(width):\n",
    "            if damaged_img[i, j].sum() > 0:\n",
    "                damaged_img[i, j] = 0\n",
    "            else:\n",
    "                damaged_img[i, j] = [255, 255, 255]\n",
    "     \n",
    "    # saving the mask \n",
    "    mask = cv2.cvtColor(damaged_img, cv2.COLOR_BGR2GRAY)\n",
    "    #cv2.imshow(\"title\", mask)\n",
    "    #cv2.waitKey(0)\n",
    "\n",
    "    dst = cv2.inpaint(org_img, mask, 3, cv2.INPAINT_NS)\n",
    "    # Write the output.\n",
    "    cv2.imwrite(path, dst)"
   ]
  },
  {
   "cell_type": "code",
   "execution_count": 5,
   "id": "17b44656-6900-4fc0-b78f-c28a0898ed9a",
   "metadata": {},
   "outputs": [],
   "source": [
    "shift_and_inpaint(\"/Users/herk/Downloads/cart_left.png\", 10)\n",
    "shift_and_inpaint(\"/Users/herk/Downloads/cart_right.png\", 50)"
   ]
  },
  {
   "cell_type": "code",
   "execution_count": 6,
   "id": "567c2157-8168-4754-8ee1-e7285bb8d9c0",
   "metadata": {},
   "outputs": [
    {
     "name": "stdout",
     "output_type": "stream",
     "text": [
      "left_img: <PIL.PngImagePlugin.PngImageFile image mode=RGB size=669x446 at 0x2F2E9E4D0>\n",
      "right_img: <PIL.PngImagePlugin.PngImageFile image mode=RGB size=669x446 at 0x2F2E9EC50>\n"
     ]
    },
    {
     "ename": "AttributeError",
     "evalue": "'HeifFile' object has no attribute 'add_from_bytes'",
     "output_type": "error",
     "traceback": [
      "\u001b[0;31m---------------------------------------------------------------------------\u001b[0m",
      "\u001b[0;31mAttributeError\u001b[0m                            Traceback (most recent call last)",
      "Cell \u001b[0;32mIn[6], line 59\u001b[0m\n\u001b[1;32m     54\u001b[0m     heif_file_1\u001b[38;5;241m.\u001b[39madd_from_bytes( mode\u001b[38;5;241m=\u001b[39m\u001b[38;5;124m\"\u001b[39m\u001b[38;5;124mBGRA;16\u001b[39m\u001b[38;5;124m\"\u001b[39m,\n\u001b[1;32m     55\u001b[0m         size\u001b[38;5;241m=\u001b[39m(cv_img\u001b[38;5;241m.\u001b[39mshape[\u001b[38;5;241m1\u001b[39m], cv_img\u001b[38;5;241m.\u001b[39mshape[\u001b[38;5;241m0\u001b[39m]),\n\u001b[1;32m     56\u001b[0m         data\u001b[38;5;241m=\u001b[39m\u001b[38;5;28mbytes\u001b[39m(cv_img))\n\u001b[1;32m     57\u001b[0m     heif_file\u001b[38;5;241m.\u001b[39mwrite_to_file(new_image_path)\n\u001b[0;32m---> 59\u001b[0m \u001b[43mcombine_left_and_right\u001b[49m\u001b[43m(\u001b[49m\u001b[43m)\u001b[49m\n",
      "Cell \u001b[0;32mIn[6], line 54\u001b[0m, in \u001b[0;36mcombine_left_and_right\u001b[0;34m()\u001b[0m\n\u001b[1;32m     48\u001b[0m cv_img \u001b[38;5;241m=\u001b[39m cv2\u001b[38;5;241m.\u001b[39mimread(right_img_path, cv2\u001b[38;5;241m.\u001b[39mIMREAD_UNCHANGED)\n\u001b[1;32m     49\u001b[0m heif_file_2 \u001b[38;5;241m=\u001b[39m pillow_heif\u001b[38;5;241m.\u001b[39mfrom_bytes(\n\u001b[1;32m     50\u001b[0m     mode\u001b[38;5;241m=\u001b[39m\u001b[38;5;124m\"\u001b[39m\u001b[38;5;124mBGRA;16\u001b[39m\u001b[38;5;124m\"\u001b[39m,\n\u001b[1;32m     51\u001b[0m     size\u001b[38;5;241m=\u001b[39m(cv_img\u001b[38;5;241m.\u001b[39mshape[\u001b[38;5;241m1\u001b[39m], cv_img\u001b[38;5;241m.\u001b[39mshape[\u001b[38;5;241m0\u001b[39m]),\n\u001b[1;32m     52\u001b[0m     data\u001b[38;5;241m=\u001b[39m\u001b[38;5;28mbytes\u001b[39m(cv_img)\n\u001b[1;32m     53\u001b[0m )\n\u001b[0;32m---> 54\u001b[0m \u001b[43mheif_file_1\u001b[49m\u001b[38;5;241;43m.\u001b[39;49m\u001b[43madd_from_bytes\u001b[49m( mode\u001b[38;5;241m=\u001b[39m\u001b[38;5;124m\"\u001b[39m\u001b[38;5;124mBGRA;16\u001b[39m\u001b[38;5;124m\"\u001b[39m,\n\u001b[1;32m     55\u001b[0m     size\u001b[38;5;241m=\u001b[39m(cv_img\u001b[38;5;241m.\u001b[39mshape[\u001b[38;5;241m1\u001b[39m], cv_img\u001b[38;5;241m.\u001b[39mshape[\u001b[38;5;241m0\u001b[39m]),\n\u001b[1;32m     56\u001b[0m     data\u001b[38;5;241m=\u001b[39m\u001b[38;5;28mbytes\u001b[39m(cv_img))\n\u001b[1;32m     57\u001b[0m heif_file\u001b[38;5;241m.\u001b[39mwrite_to_file(new_image_path)\n",
      "\u001b[0;31mAttributeError\u001b[0m: 'HeifFile' object has no attribute 'add_from_bytes'"
     ]
    }
   ],
   "source": [
    "\n",
    "from PIL import Image\n",
    "import pillow_heif\n",
    "import math\n",
    "\n",
    "def load_image(path):\n",
    "    try:\n",
    "        return Image.open(path)\n",
    "    except Exception as e:\n",
    "        print(f\"Error loading image: {e}\")\n",
    "        return None\n",
    "\n",
    "def combine_left_and_right():\n",
    "    left_img_path = \"/Users/herk/Downloads/cart_left.png\"\n",
    "    right_img_path = \"/Users/herk/Downloads/cart_right.png\"\n",
    "    new_image_path = \"/Users/herk/Downloads/cart_with_depth.heic\"\n",
    "\n",
    "    left_img = load_image(left_img_path)\n",
    "    right_img = load_image(right_img_path)\n",
    "\n",
    "    print(f\"left_img: {left_img}\")\n",
    "    print(f\"right_img: {right_img}\")\n",
    "\n",
    "    if left_img is None or right_img is None:\n",
    "        print(\"One of the images could not be loaded.\")\n",
    "        return\n",
    "    \n",
    "    image_width = left_img.size[0]\n",
    "    image_height = left_img.size[1]\n",
    "    fov_horizontal_degrees = 55\n",
    "    fov_horizontal_radians = fov_horizontal_degrees * (3.14159 / 180)\n",
    "    focal_length_pixels = 0.5 * image_width / math.tan(0.5 * fov_horizontal_radians)\n",
    "    baseline = 65.0 # in millimeters\n",
    "\n",
    "    # Since pillow_heif does not directly support adding depth information,\n",
    "    # the following is an approximation that creates a HEIF image with two pictures.\n",
    "    # Depth information and camera intrinsics are not standard and require\n",
    "    # specific API support which is not available in pillow_heif as of the last knowledge update.\n",
    "\n",
    "    left_img_bytes = left_img.tobytes(\"raw\")\n",
    "    right_img_bytes = right_img.tobytes(\"raw\")\n",
    "\n",
    "    cv_img = cv2.imread(left_img_path, cv2.IMREAD_UNCHANGED)\n",
    "    heif_file_1 = pillow_heif.from_bytes(\n",
    "        mode=\"BGRA;16\",\n",
    "        size=(cv_img.shape[1], cv_img.shape[0]),\n",
    "        data=bytes(cv_img)\n",
    "    )\n",
    "    cv_img = cv2.imread(right_img_path, cv2.IMREAD_UNCHANGED)\n",
    "    heif_file_2 = pillow_heif.from_bytes(\n",
    "        mode=\"BGRA;16\",\n",
    "        size=(cv_img.shape[1], cv_img.shape[0]),\n",
    "        data=bytes(cv_img)\n",
    "    )\n",
    "    heif_file_1.add_from_bytes( mode=\"BGRA;16\",\n",
    "        size=(cv_img.shape[1], cv_img.shape[0]),\n",
    "        data=bytes(cv_img))\n",
    "    heif_file.write_to_file(new_image_path)\n",
    "\n",
    "combine_left_and_right()"
   ]
  },
  {
   "cell_type": "code",
   "execution_count": 39,
   "id": "cd8f25f9-d74c-41bf-b4a1-02dac31f5a43",
   "metadata": {},
   "outputs": [
    {
     "data": {
      "text/plain": [
       "<HeifFile with 2 images: ['<HeifImage 669x446 RGB with 895122 bytes image data and 0 thumbnails>', '<HeifImage 669x446 RGB with 895122 bytes image data and 0 thumbnails>']>"
      ]
     },
     "execution_count": 39,
     "metadata": {},
     "output_type": "execute_result"
    }
   ],
   "source": [
    "read = pillow_heif.read_heif(\"/Users/herk/Downloads/cart_with_depth.heic\")"
   ]
  },
  {
   "cell_type": "code",
   "execution_count": 44,
   "id": "a75769ff-d8ca-4c93-bfcd-ed22282b863a",
   "metadata": {},
   "outputs": [
    {
     "data": {
      "text/plain": [
       "<HeifFile with 0 images: []>"
      ]
     },
     "execution_count": 44,
     "metadata": {},
     "output_type": "execute_result"
    }
   ],
   "source": [
    "pillow_heif.HeifFile()"
   ]
  },
  {
   "cell_type": "code",
   "execution_count": 16,
   "id": "dbcad149-07b0-49da-85a7-6d1102af3d12",
   "metadata": {},
   "outputs": [
    {
     "ename": "error",
     "evalue": "struct heif_decoding_options: wrong total size (cdef says 48, but C compiler says 72). fix it or use \"...;\" as the last field in the cdef for struct heif_decoding_options to make it flexible",
     "output_type": "error",
     "traceback": [
      "\u001b[0;31m---------------------------------------------------------------------------\u001b[0m",
      "\u001b[0;31merror\u001b[0m                                     Traceback (most recent call last)",
      "Cell \u001b[0;32mIn[16], line 3\u001b[0m\n\u001b[1;32m      1\u001b[0m \u001b[38;5;28;01mimport\u001b[39;00m \u001b[38;5;21;01mpyheif\u001b[39;00m\n\u001b[0;32m----> 3\u001b[0m heif_file \u001b[38;5;241m=\u001b[39m \u001b[43mpyheif\u001b[49m\u001b[38;5;241;43m.\u001b[39;49m\u001b[43mread\u001b[49m\u001b[43m(\u001b[49m\u001b[38;5;124;43m'\u001b[39;49m\u001b[38;5;124;43m/Users/herk/Downloads/cart_with_depth.heic\u001b[39;49m\u001b[38;5;124;43m'\u001b[39;49m\u001b[43m)\u001b[49m\n",
      "File \u001b[0;32m~/Projects/visionViewer/depthModels/.venv/lib/python3.10/site-packages/pyheif/reader.py:103\u001b[0m, in \u001b[0;36mread\u001b[0;34m(fp, apply_transformations, convert_hdr_to_8bit)\u001b[0m\n\u001b[1;32m     97\u001b[0m \u001b[38;5;28;01mdef\u001b[39;00m \u001b[38;5;21mread\u001b[39m(fp, \u001b[38;5;241m*\u001b[39m, apply_transformations\u001b[38;5;241m=\u001b[39m\u001b[38;5;28;01mTrue\u001b[39;00m, convert_hdr_to_8bit\u001b[38;5;241m=\u001b[39m\u001b[38;5;28;01mTrue\u001b[39;00m):\n\u001b[1;32m     98\u001b[0m     heif_file \u001b[38;5;241m=\u001b[39m \u001b[38;5;28mopen\u001b[39m(\n\u001b[1;32m     99\u001b[0m         fp,\n\u001b[1;32m    100\u001b[0m         apply_transformations\u001b[38;5;241m=\u001b[39mapply_transformations,\n\u001b[1;32m    101\u001b[0m         convert_hdr_to_8bit\u001b[38;5;241m=\u001b[39mconvert_hdr_to_8bit,\n\u001b[1;32m    102\u001b[0m     )\n\u001b[0;32m--> 103\u001b[0m     \u001b[38;5;28;01mreturn\u001b[39;00m \u001b[43mheif_file\u001b[49m\u001b[38;5;241;43m.\u001b[39;49m\u001b[43mload\u001b[49m\u001b[43m(\u001b[49m\u001b[43m)\u001b[49m\n",
      "File \u001b[0;32m~/Projects/visionViewer/depthModels/.venv/lib/python3.10/site-packages/pyheif/reader.py:47\u001b[0m, in \u001b[0;36mUndecodedHeifFile.load\u001b[0;34m(self)\u001b[0m\n\u001b[1;32m     46\u001b[0m \u001b[38;5;28;01mdef\u001b[39;00m \u001b[38;5;21mload\u001b[39m(\u001b[38;5;28mself\u001b[39m):\n\u001b[0;32m---> 47\u001b[0m     \u001b[38;5;28mself\u001b[39m\u001b[38;5;241m.\u001b[39mdata, \u001b[38;5;28mself\u001b[39m\u001b[38;5;241m.\u001b[39mstride \u001b[38;5;241m=\u001b[39m \u001b[43m_read_heif_image\u001b[49m\u001b[43m(\u001b[49m\u001b[38;5;28;43mself\u001b[39;49m\u001b[38;5;241;43m.\u001b[39;49m\u001b[43m_heif_handle\u001b[49m\u001b[43m,\u001b[49m\u001b[43m \u001b[49m\u001b[38;5;28;43mself\u001b[39;49m\u001b[43m)\u001b[49m\n\u001b[1;32m     48\u001b[0m     \u001b[38;5;28mself\u001b[39m\u001b[38;5;241m.\u001b[39mclose()\n\u001b[1;32m     49\u001b[0m     \u001b[38;5;28mself\u001b[39m\u001b[38;5;241m.\u001b[39m\u001b[38;5;18m__class__\u001b[39m \u001b[38;5;241m=\u001b[39m HeifFile\n",
      "File \u001b[0;32m~/Projects/visionViewer/depthModels/.venv/lib/python3.10/site-packages/pyheif/reader.py:402\u001b[0m, in \u001b[0;36m_read_heif_image\u001b[0;34m(handle, heif_file)\u001b[0m\n\u001b[1;32m    398\u001b[0m p_options \u001b[38;5;241m=\u001b[39m _libheif_cffi\u001b[38;5;241m.\u001b[39mlib\u001b[38;5;241m.\u001b[39mheif_decoding_options_alloc()\n\u001b[1;32m    399\u001b[0m p_options \u001b[38;5;241m=\u001b[39m _libheif_cffi\u001b[38;5;241m.\u001b[39mffi\u001b[38;5;241m.\u001b[39mgc(\n\u001b[1;32m    400\u001b[0m     p_options, _libheif_cffi\u001b[38;5;241m.\u001b[39mlib\u001b[38;5;241m.\u001b[39mheif_decoding_options_free\n\u001b[1;32m    401\u001b[0m )\n\u001b[0;32m--> 402\u001b[0m \u001b[43mp_options\u001b[49m\u001b[38;5;241;43m.\u001b[39;49m\u001b[43mignore_transformations\u001b[49m \u001b[38;5;241m=\u001b[39m \u001b[38;5;28mint\u001b[39m(\u001b[38;5;129;01mnot\u001b[39;00m heif_file\u001b[38;5;241m.\u001b[39mapply_transformations)\n\u001b[1;32m    403\u001b[0m p_options\u001b[38;5;241m.\u001b[39mconvert_hdr_to_8bit \u001b[38;5;241m=\u001b[39m \u001b[38;5;28mint\u001b[39m(heif_file\u001b[38;5;241m.\u001b[39mconvert_hdr_to_8bit)\n\u001b[1;32m    405\u001b[0m p_img \u001b[38;5;241m=\u001b[39m _libheif_cffi\u001b[38;5;241m.\u001b[39mffi\u001b[38;5;241m.\u001b[39mnew(\u001b[38;5;124m\"\u001b[39m\u001b[38;5;124mstruct heif_image **\u001b[39m\u001b[38;5;124m\"\u001b[39m)\n",
      "\u001b[0;31merror\u001b[0m: struct heif_decoding_options: wrong total size (cdef says 48, but C compiler says 72). fix it or use \"...;\" as the last field in the cdef for struct heif_decoding_options to make it flexible"
     ]
    }
   ],
   "source": [
    "import pyheif\n",
    "\n",
    "heif_file = pyheif.read('/Users/herk/Downloads/cart_with_depth.heic')"
   ]
  },
  {
   "cell_type": "code",
   "execution_count": 29,
   "id": "79bc4cf1-a859-446f-83e5-1070de8e3279",
   "metadata": {},
   "outputs": [],
   "source": [
    "image = Image.open('/Users/herk/Downloads/IMG_0012.HEIC')"
   ]
  },
  {
   "cell_type": "code",
   "execution_count": 30,
   "id": "0ccf035a-55d4-4a46-8b3c-850fc3782145",
   "metadata": {},
   "outputs": [],
   "source": [
    "read = pillow_heif.read_heif(\"/Users/herk/Downloads/IMG_0012.HEIC\")"
   ]
  },
  {
   "cell_type": "code",
   "execution_count": 41,
   "id": "e6ac84a0-7913-47a7-9bd8-f3edaf389ec8",
   "metadata": {},
   "outputs": [
    {
     "data": {
      "text/plain": [
       "{'primary': True,\n",
       " 'bit_depth': 8,\n",
       " 'exif': b\"Exif\\x00\\x00MM\\x00*\\x00\\x00\\x00\\x08\\x00\\x06\\x01\\x0f\\x00\\x02\\x00\\x00\\x00\\x06\\x00\\x00\\x00V\\x01\\x10\\x00\\x02\\x00\\x00\\x00\\x11\\x00\\x00\\x00\\\\\\x011\\x00\\x02\\x00\\x00\\x00\\x06\\x00\\x00\\x00n\\x012\\x00\\x02\\x00\\x00\\x00\\x17\\x00\\x00\\x00t\\x87i\\x00\\x04\\x00\\x00\\x00\\x01\\x00\\x00\\x00\\x8c\\x88%\\x00\\x04\\x00\\x00\\x00\\x01\\x00\\x00\\x01\\xcc\\x00\\x00\\x00\\x00Apple\\x00Apple Vision Pro\\x00\\x001.0.2\\x002024-02-13T11:22:22PST\\x00\\x00\\x00\\r\\x82\\x9a\\x00\\x05\\x00\\x00\\x00\\x01\\x00\\x00\\x01.\\x82\\x9d\\x00\\x05\\x00\\x00\\x00\\x01\\x00\\x00\\x016\\x883\\x00\\x04\\x00\\x00\\x00\\x01\\x00\\x00\\x00W\\x92\\x01\\x00\\n\\x00\\x00\\x00\\x01\\x00\\x00\\x01>\\x92\\x02\\x00\\x05\\x00\\x00\\x00\\x01\\x00\\x00\\x01F\\x92\\x04\\x00\\n\\x00\\x00\\x00\\x01\\x00\\x00\\x01N\\x92\\n\\x00\\x05\\x00\\x00\\x00\\x01\\x00\\x00\\x01V\\x92|\\x00\\x07\\x00\\x00\\x008\\x00\\x00\\x01^\\xa0\\x02\\x00\\x04\\x00\\x00\\x00\\x01\\x00\\x00\\n\\x00\\xa0\\x03\\x00\\x04\\x00\\x00\\x00\\x01\\x00\\x00\\n\\x00\\xa4\\x05\\x00\\x03\\x00\\x00\\x00\\x01\\x00\\x12\\x00\\x00\\xa43\\x00\\x02\\x00\\x00\\x00\\x06\\x00\\x00\\x01\\x96\\xa44\\x00\\x02\\x00\\x00\\x00/\\x00\\x00\\x01\\x9c\\x00\\x00\\x00\\x00\\x00\\x00\\r3\\x00\\x062A\\x00\\x00\\x00\\x02\\x00\\x00\\x00\\x01\\x00\\x01\\x0eC\\x00\\x00'\\x1e\\x00\\x00\\x00\\x02\\x00\\x00\\x00\\x01\\x00\\x00\\x00\\x00\\x00\\x00\\x00\\x01\\x00\\x00-\\xba\\x00\\x00L\\xbdApple iOS\\x00\\x00\\x01MM\\x00\\x03\\x00\\x19\\x00\\t\\x00\\x00\\x00\\x01\\x00\\x00\\x00\\x00\\x006\\x00\\t\\x00\\x00\\x00\\x01\\x00\\x00\\x06\\xad\\x00L\\x00\\x07\\x00\\x00\\x00\\x01\\x01\\x00\\x00\\x00\\x00\\x00\\x00\\x00Apple\\x00Apple Vision Pro Left Main Camera 2.16mm f/2.0\\x00\\x00\\x00\\x06\\x00\\x01\\x00\\x02\\x00\\x00\\x00\\x02N\\x00\\x00\\x00\\x00\\x02\\x00\\x05\\x00\\x00\\x00\\x03\\x00\\x00\\x02\\x1a\\x00\\x03\\x00\\x02\\x00\\x00\\x00\\x02E\\x00\\x00\\x00\\x00\\x04\\x00\\x05\\x00\\x00\\x00\\x03\\x00\\x00\\x022\\x00\\x05\\x00\\x01\\x00\\x00\\x00\\x01\\x00\\x00\\x00\\x00\\x00\\x06\\x00\\x05\\x00\\x00\\x00\\x01\\x00\\x00\\x02J\\x00\\x00\\x00\\x00\\x00\\x00\\x00\\x00\\x00\\x00\\x00\\x01\\x00\\x00\\x00\\x00\\x00\\x00\\x00\\x01\\x00\\x00\\x00\\x00\\x00\\x00\\x00d\\x00\\x00\\x00\\x00\\x00\\x00\\x00\\x01\\x00\\x00\\x00\\x00\\x00\\x00\\x00\\x01\\x00\\x00\\x00\\x00\\x00\\x00\\x00d\\x00\\x00\\x00\\x00\\x00\\x00\\x00\\x01\",\n",
       " 'xmp': b'<x:xmpmeta xmlns:x=\"adobe:ns:meta/\" x:xmptk=\"XMP Core 6.0.0\">\\n   <rdf:RDF xmlns:rdf=\"http://www.w3.org/1999/02/22-rdf-syntax-ns#\">\\n      <rdf:Description rdf:about=\"\"\\n            xmlns:xmp=\"http://ns.adobe.com/xap/1.0/\"\\n            xmlns:SpatialMedia=\"http://ns.apple.com/SpatialMedia/1.0/\">\\n         <xmp:CreateDate>2024-02-13T11:22:22.415GMT-08:00</xmp:CreateDate>\\n         <xmp:CreatorTool>SpatialCapture</xmp:CreatorTool>\\n         <SpatialMedia:LuxClippingPoint-left>22257.19</SpatialMedia:LuxClippingPoint-left>\\n         <SpatialMedia:version>1.0</SpatialMedia:version>\\n         <SpatialMedia:LuxClippingPoint-right>22257.19</SpatialMedia:LuxClippingPoint-right>\\n      </rdf:Description>\\n   </rdf:RDF>\\n</x:xmpmeta>\\n',\n",
       " 'metadata': [],\n",
       " 'thumbnails': [],\n",
       " 'depth_images': [],\n",
       " 'icc_profile': b'\\x00\\x00\\x02\\x18appl\\x04\\x00\\x00\\x00mntrRGB XYZ \\x07\\xe6\\x00\\x01\\x00\\x01\\x00\\x00\\x00\\x00\\x00\\x00acspAPPL\\x00\\x00\\x00\\x00APPL\\x00\\x00\\x00\\x00\\x00\\x00\\x00\\x00\\x00\\x00\\x00\\x00\\x00\\x00\\x00\\x00\\x00\\x00\\xf6\\xd6\\x00\\x01\\x00\\x00\\x00\\x00\\xd3-appl\\xec\\xfd\\xa3\\x8e8\\x85G\\xc3m\\xb4\\xbdOz\\xda\\x18/\\x00\\x00\\x00\\x00\\x00\\x00\\x00\\x00\\x00\\x00\\x00\\x00\\x00\\x00\\x00\\x00\\x00\\x00\\x00\\x00\\x00\\x00\\x00\\x00\\x00\\x00\\x00\\x00\\x00\\x00\\x00\\ndesc\\x00\\x00\\x00\\xfc\\x00\\x00\\x000cprt\\x00\\x00\\x01,\\x00\\x00\\x00Pwtpt\\x00\\x00\\x01|\\x00\\x00\\x00\\x14rXYZ\\x00\\x00\\x01\\x90\\x00\\x00\\x00\\x14gXYZ\\x00\\x00\\x01\\xa4\\x00\\x00\\x00\\x14bXYZ\\x00\\x00\\x01\\xb8\\x00\\x00\\x00\\x14rTRC\\x00\\x00\\x01\\xcc\\x00\\x00\\x00 chad\\x00\\x00\\x01\\xec\\x00\\x00\\x00,bTRC\\x00\\x00\\x01\\xcc\\x00\\x00\\x00 gTRC\\x00\\x00\\x01\\xcc\\x00\\x00\\x00 mluc\\x00\\x00\\x00\\x00\\x00\\x00\\x00\\x01\\x00\\x00\\x00\\x0cenUS\\x00\\x00\\x00\\x14\\x00\\x00\\x00\\x1c\\x00D\\x00i\\x00s\\x00p\\x00l\\x00a\\x00y\\x00 \\x00P\\x003mluc\\x00\\x00\\x00\\x00\\x00\\x00\\x00\\x01\\x00\\x00\\x00\\x0cenUS\\x00\\x00\\x004\\x00\\x00\\x00\\x1c\\x00C\\x00o\\x00p\\x00y\\x00r\\x00i\\x00g\\x00h\\x00t\\x00 \\x00A\\x00p\\x00p\\x00l\\x00e\\x00 \\x00I\\x00n\\x00c\\x00.\\x00,\\x00 \\x002\\x000\\x002\\x002XYZ \\x00\\x00\\x00\\x00\\x00\\x00\\xf6\\xd5\\x00\\x01\\x00\\x00\\x00\\x00\\xd3,XYZ \\x00\\x00\\x00\\x00\\x00\\x00\\x83\\xdf\\x00\\x00=\\xbf\\xff\\xff\\xff\\xbbXYZ \\x00\\x00\\x00\\x00\\x00\\x00J\\xbf\\x00\\x00\\xb17\\x00\\x00\\n\\xb9XYZ \\x00\\x00\\x00\\x00\\x00\\x00(8\\x00\\x00\\x11\\x0b\\x00\\x00\\xc8\\xb9para\\x00\\x00\\x00\\x00\\x00\\x03\\x00\\x00\\x00\\x02ff\\x00\\x00\\xf2\\xa7\\x00\\x00\\rY\\x00\\x00\\x13\\xd0\\x00\\x00\\n[sf32\\x00\\x00\\x00\\x00\\x00\\x01\\x0cB\\x00\\x00\\x05\\xde\\xff\\xff\\xf3&\\x00\\x00\\x07\\x93\\x00\\x00\\xfd\\x90\\xff\\xff\\xfb\\xa2\\xff\\xff\\xfd\\xa3\\x00\\x00\\x03\\xdc\\x00\\x00\\xc0n',\n",
       " 'icc_profile_type': 'prof'}"
      ]
     },
     "execution_count": 41,
     "metadata": {},
     "output_type": "execute_result"
    }
   ],
   "source": [
    "read.info"
   ]
  },
  {
   "cell_type": "code",
   "execution_count": null,
   "id": "331ecc25-a7d8-4a86-9059-0de12b19e6c1",
   "metadata": {},
   "outputs": [],
   "source": []
  }
 ],
 "metadata": {
  "kernelspec": {
   "display_name": "Python 3 (ipykernel)",
   "language": "python",
   "name": "python3"
  },
  "language_info": {
   "codemirror_mode": {
    "name": "ipython",
    "version": 3
   },
   "file_extension": ".py",
   "mimetype": "text/x-python",
   "name": "python",
   "nbconvert_exporter": "python",
   "pygments_lexer": "ipython3",
   "version": "3.10.13"
  }
 },
 "nbformat": 4,
 "nbformat_minor": 5
}
